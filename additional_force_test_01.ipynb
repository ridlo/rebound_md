{
 "cells": [
  {
   "cell_type": "code",
   "execution_count": 1,
   "metadata": {},
   "outputs": [],
   "source": [
    "import math\n",
    "import numpy as np\n",
    "import matplotlib.pyplot as plt\n",
    "import rebound\n",
    "\n",
    "sim = rebound.Simulation()\n",
    "\n",
    "sim.add(m=1., r=0.25, x=-1.0, y=-1.0)\n",
    "sim.add(m=1., r=0.25, x=1.0, y=1.0)\n",
    "\n",
    "sim.integrator = 'ias15'\n",
    "sim.move_to_com()\n",
    "sim.collision = \"direct\"\n",
    "sim.collision_resolve=\"hardsphere\"\n",
    "\n",
    "ps = sim.particles\n",
    "\n",
    "# Set the output and how to save\n",
    "Noutputs = 90\n",
    "times = np.linspace(0.0, 10, Noutputs)\n",
    "x = np.zeros((2,Noutputs))\n",
    "y = np.zeros((2,Noutputs))\n",
    "\n",
    "# integrate\n",
    "for i, time in enumerate(times):\n",
    "    sim.integrate(time)\n",
    "    x[0][i] = ps[0].x   # This stores the data which allows us to plot it later\n",
    "    y[0][i] = ps[0].y\n",
    "    x[1][i] = ps[1].x\n",
    "    y[1][i] = ps[1].y\n",
    "\n",
    "\n",
    "# Plot using matplotlib\n",
    "for i in range(Noutputs):\n",
    "    fig = plt.figure(figsize=(5, 5))\n",
    "    ax = plt.subplot(111)\n",
    "    ax.set_xlim(-1.5, 1.5)\n",
    "    ax.set_ylim(-1.5, 1.5)\n",
    "    circle1 = plt.Circle((x[0][i], y[0][i]), 0.25, color=\"red\", lw=0, alpha=0.3)\n",
    "    circle2 = plt.Circle((x[1][i], y[1][i]), 0.25, color=\"blue\", lw=0, alpha=0.3)\n",
    "    ax.add_artist(circle1)\n",
    "    ax.add_artist(circle2)\n",
    "    plt.savefig(\"tumbuk_\"+str(i))\n",
    "    plt.close()"
   ]
  },
  {
   "cell_type": "code",
   "execution_count": null,
   "metadata": {},
   "outputs": [],
   "source": []
  }
 ],
 "metadata": {
  "kernelspec": {
   "display_name": "Python 2",
   "language": "python",
   "name": "python2"
  },
  "language_info": {
   "codemirror_mode": {
    "name": "ipython",
    "version": 2
   },
   "file_extension": ".py",
   "mimetype": "text/x-python",
   "name": "python",
   "nbconvert_exporter": "python",
   "pygments_lexer": "ipython2",
   "version": "2.7.14"
  }
 },
 "nbformat": 4,
 "nbformat_minor": 2
}
