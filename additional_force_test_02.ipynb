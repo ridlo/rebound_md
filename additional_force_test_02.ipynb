{
 "cells": [
  {
   "cell_type": "code",
   "execution_count": 1,
   "metadata": {},
   "outputs": [],
   "source": [
    "import math\n",
    "import numpy as np\n",
    "import matplotlib.pyplot as plt\n",
    "\n",
    "%matplotlib inline"
   ]
  },
  {
   "cell_type": "markdown",
   "metadata": {},
   "source": [
    "# Normal force: Linear-Spring Dashpot\n",
    "\n",
    "\n",
    "$$ N_{ij} = \\left[ \\kappa_N \\xi_{ij} - \\gamma_N sign{\\left(\\xi_{ij}\\right)} \\frac{d \\xi_{ij}}{dt} \\right] \\hat{r}_{ij}$$\n",
    "\n",
    "$$\\xi_{ij} = max(0, R_i + R_j - r_{ij})$$\n",
    "\n",
    "$$\\frac{d \\xi_{ij}}{dt} = -v_{ij}$$\n",
    "\n",
    "\n",
    "$r_{ij}$ = jarak antara partikel $i$ dan $j$\n",
    "\n",
    "$R_i$ dan $R_j$ adalah radius partikel\n",
    "\n",
    "$\\kappa_N$ dan $\\gamma_N$ = konstanta\n",
    "\n",
    "\n",
    "\n"
   ]
  },
  {
   "cell_type": "code",
   "execution_count": 2,
   "metadata": {},
   "outputs": [],
   "source": [
    "def normal_force(r, v, Ri, Rj, kappa, gamma):\n",
    "    # r = jarak antara dua partikel\n",
    "    # v = kecepatan relatif dua partikel\n",
    "    # Ri = radius partikel pertama\n",
    "    # Rj = radius partikel kedua\n",
    "    \n",
    "    xi = max(0, Ri+Rj-r)\n",
    "    return kappa*xi - gamma*np.sign(xi)*(-v)"
   ]
  },
  {
   "cell_type": "code",
   "execution_count": 3,
   "metadata": {},
   "outputs": [],
   "source": [
    "x = np.linspace(0.0, 2, 100)\n",
    "kappa = 10000\n",
    "gamma = 50\n",
    "v = -3.\n",
    "Ri=0.25\n",
    "Rj=0.25"
   ]
  },
  {
   "cell_type": "code",
   "execution_count": 4,
   "metadata": {},
   "outputs": [],
   "source": [
    "normalforce = []\n",
    "for xi in x:\n",
    "    normalforce.append(normal_force(xi, v, Ri, Rj, kappa, gamma))"
   ]
  },
  {
   "cell_type": "code",
   "execution_count": 5,
   "metadata": {},
   "outputs": [
    {
     "data": {
      "text/plain": [
       "[<matplotlib.lines.Line2D at 0x7f6d881543d0>]"
      ]
     },
     "execution_count": 5,
     "metadata": {},
     "output_type": "execute_result"
    },
    {
     "data": {
      "image/png": "[encoded data removed]",
      "text/plain": [
       "<matplotlib.figure.Figure at 0x7f6d8816d3d0>"
      ]
     },
     "metadata": {},
     "output_type": "display_data"
    }
   ],
   "source": [
    "plt.plot(x, normalforce, 'r.')"
   ]
  },
  {
   "cell_type": "code",
   "execution_count": null,
   "metadata": {},
   "outputs": [],
   "source": []
  }
 ],
 "metadata": {
  "kernelspec": {
   "display_name": "Python 2",
   "language": "python",
   "name": "python2"
  },
  "language_info": {
   "codemirror_mode": {
    "name": "ipython",
    "version": 2
   },
   "file_extension": ".py",
   "mimetype": "text/x-python",
   "name": "python",
   "nbconvert_exporter": "python",
   "pygments_lexer": "ipython2",
   "version": "2.7.14"
  }
 },
 "nbformat": 4,
 "nbformat_minor": 2
}
