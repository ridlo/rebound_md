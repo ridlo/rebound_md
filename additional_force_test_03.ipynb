{
 "cells": [
  {
   "cell_type": "code",
   "execution_count": 1,
   "metadata": {},
   "outputs": [],
   "source": [
    "import math\n",
    "import numpy as np\n",
    "import matplotlib.pyplot as plt\n",
    "import matplotlib.patches as mpatches\n",
    "import rebound\n",
    "\n",
    "%matplotlib inline"
   ]
  },
  {
   "cell_type": "code",
   "execution_count": 2,
   "metadata": {},
   "outputs": [],
   "source": [
    "sim = rebound.Simulation()"
   ]
  },
  {
   "cell_type": "code",
   "execution_count": 3,
   "metadata": {},
   "outputs": [
    {
     "name": "stdout",
     "output_type": "stream",
     "text": [
      "4.18879020479\n"
     ]
    }
   ],
   "source": [
    "sim.G = 1e-2\n",
    "rho = 2000\n",
    "radius= 1\n",
    "mass = 4/3.*np.pi*radius**3\n",
    "print(mass)"
   ]
  },
  {
   "cell_type": "code",
   "execution_count": 4,
   "metadata": {},
   "outputs": [],
   "source": [
    "sim.add(m=4., r=radius, x=-1, y=-1)\n",
    "sim.add(m=4., r=radius, x=1, y=1)\n",
    "sim.add(m=4., r=1, x=1.01, y=-1.01)"
   ]
  },
  {
   "cell_type": "code",
   "execution_count": 5,
   "metadata": {},
   "outputs": [],
   "source": [
    "sim.integrator = 'leapfrog'\n",
    "sim.move_to_com()\n",
    "sim.collision = \"none\"\n",
    "\n",
    "ps = sim.particles"
   ]
  },
  {
   "cell_type": "code",
   "execution_count": 6,
   "metadata": {},
   "outputs": [],
   "source": [
    "def linear_spring_dashpot(r, v, Ri, Rj, kappa=300, gamma=0.5):    \n",
    "    xi = max(0, Ri+Rj-r)\n",
    "    return kappa*xi - gamma*np.sign(xi)*(-v)"
   ]
  },
  {
   "cell_type": "code",
   "execution_count": 7,
   "metadata": {},
   "outputs": [],
   "source": [
    "def normal_force(reb_sim):\n",
    "    for i in range(sim.N):\n",
    "        for j in range(sim.N):\n",
    "            if i == j:\n",
    "                continue\n",
    "            else:\n",
    "                dx = ps[i].x - ps[j].x\n",
    "                dy = ps[i].y - ps[j].y\n",
    "                dz = ps[i].z - ps[j].z\n",
    "                dist = math.sqrt(dx*dx + dy*dy + dz*dz)\n",
    "    \n",
    "                dvx = ps[i].vx - ps[j].vx\n",
    "                dvy = ps[i].vy - ps[j].vy\n",
    "                dvz = ps[i].vz - ps[j].vz\n",
    "                vrel = math.sqrt(dvx*dvx + dvy*dvy + dvz*dvz)\n",
    "                \n",
    "                normforce = linear_spring_dashpot(dist, vrel, ps[i].r, ps[j].r)\n",
    "                \n",
    "                ps[i].ax += normforce*dx/dist\n",
    "                ps[i].ay += normforce*dy/dist\n",
    "                ps[i].az += normforce*dz/dist"
   ]
  },
  {
   "cell_type": "code",
   "execution_count": 8,
   "metadata": {},
   "outputs": [],
   "source": [
    "sim.additional_forces = normal_force\n",
    "sim.force_is_velocity_dependent = 1"
   ]
  },
  {
   "cell_type": "code",
   "execution_count": 9,
   "metadata": {},
   "outputs": [],
   "source": [
    "# Set the output and how to save\n",
    "Noutputs = 120\n",
    "times = np.linspace(0.0, 120, Noutputs)\n",
    "x = np.zeros((sim.N,Noutputs))\n",
    "y = np.zeros((sim.N,Noutputs))"
   ]
  },
  {
   "cell_type": "code",
   "execution_count": 10,
   "metadata": {},
   "outputs": [],
   "source": [
    "# integrate\n",
    "for i, time in enumerate(times):\n",
    "    sim.integrate(time)\n",
    "    for ipar in range(sim.N):      \n",
    "        x[ipar][i] = ps[ipar].x   # This stores the data which allows us to plot it later\n",
    "        y[ipar][i] = ps[ipar].y"
   ]
  },
  {
   "cell_type": "code",
   "execution_count": 11,
   "metadata": {},
   "outputs": [],
   "source": [
    "# Plot using matplotlib\n",
    "for i in range(Noutputs):\n",
    "    fig = plt.figure(figsize=(5, 5))\n",
    "    ax = plt.subplot(111)\n",
    "    ax.set_xlim(-3, 3)\n",
    "    ax.set_ylim(-3, 3)\n",
    "    \n",
    "    for j in range(sim.N):\n",
    "        circle = plt.Circle((x[j][i], y[j][i]), ps[j].r, lw=0, alpha=0.3)\n",
    "        ax.add_artist(circle)\n",
    "        \n",
    "    plt.savefig(\"./image/tumbuk_\"+str(i))\n",
    "    plt.close()"
   ]
  },
  {
   "cell_type": "code",
   "execution_count": null,
   "metadata": {},
   "outputs": [],
   "source": []
  }
 ],
 "metadata": {
  "kernelspec": {
   "display_name": "Python 2",
   "language": "python",
   "name": "python2"
  },
  "language_info": {
   "codemirror_mode": {
    "name": "ipython",
    "version": 2
   },
   "file_extension": ".py",
   "mimetype": "text/x-python",
   "name": "python",
   "nbconvert_exporter": "python",
   "pygments_lexer": "ipython2",
   "version": "2.7.14"
  }
 },
 "nbformat": 4,
 "nbformat_minor": 2
}
